{
 "cells": [
  {
   "cell_type": "code",
   "execution_count": 1,
   "id": "57c919a8",
   "metadata": {},
   "outputs": [
    {
     "ename": "ModuleNotFoundError",
     "evalue": "No module named 'selenium'",
     "output_type": "error",
     "traceback": [
      "\u001b[1;31m---------------------------------------------------------------------------\u001b[0m",
      "\u001b[1;31mModuleNotFoundError\u001b[0m                       Traceback (most recent call last)",
      "Cell \u001b[1;32mIn[1], line 1\u001b[0m\n\u001b[1;32m----> 1\u001b[0m \u001b[38;5;28;01mfrom\u001b[39;00m \u001b[38;5;21;01mselenium\u001b[39;00m \u001b[38;5;28;01mimport\u001b[39;00m webdriver\n\u001b[0;32m      2\u001b[0m \u001b[38;5;28;01mfrom\u001b[39;00m \u001b[38;5;21;01mselenium\u001b[39;00m\u001b[38;5;21;01m.\u001b[39;00m\u001b[38;5;21;01mwebdriver\u001b[39;00m\u001b[38;5;21;01m.\u001b[39;00m\u001b[38;5;21;01mcommon\u001b[39;00m\u001b[38;5;21;01m.\u001b[39;00m\u001b[38;5;21;01mkeys\u001b[39;00m \u001b[38;5;28;01mimport\u001b[39;00m Keys\n\u001b[0;32m      3\u001b[0m \u001b[38;5;28;01mfrom\u001b[39;00m \u001b[38;5;21;01mselenium\u001b[39;00m\u001b[38;5;21;01m.\u001b[39;00m\u001b[38;5;21;01mwebdriver\u001b[39;00m\u001b[38;5;21;01m.\u001b[39;00m\u001b[38;5;21;01mcommon\u001b[39;00m\u001b[38;5;21;01m.\u001b[39;00m\u001b[38;5;21;01mby\u001b[39;00m \u001b[38;5;28;01mimport\u001b[39;00m By\n",
      "\u001b[1;31mModuleNotFoundError\u001b[0m: No module named 'selenium'"
     ]
    }
   ],
   "source": [
    "from selenium import webdriver\n",
    "from selenium.webdriver.common.keys import Keys\n",
    "from selenium.webdriver.common.by import By\n",
    "from selenium.webdriver.support.ui import WebDriverWait\n",
    "from selenium.webdriver.support import expected_conditions as EC\n",
    "import time\n",
    "from datetime import datetime\n",
    "import pandas as pd\n",
    "from dateutil import tz"
   ]
  },
  {
   "cell_type": "code",
   "execution_count": null,
   "id": "a01505d5",
   "metadata": {},
   "outputs": [],
   "source": []
  },
  {
   "cell_type": "code",
   "execution_count": null,
   "id": "7c076cc9",
   "metadata": {},
   "outputs": [],
   "source": [
    "##  assigning a driver \n",
    "class InstagramBot():\n",
    "    def __init__(self, email, password):\n",
    "        \n",
    "        self.browser = webdriver.Chrome(r\"C:\\Users\\91976\\PycharmProjects\\firstsele\\drivers\\chromedriver.exe\")\n",
    "        self.email = email\n",
    "        self.password = password\n",
    "\n",
    "    def signIn(self):\n",
    "        self.browser.get('https://www.instagram.com/accounts/login/')\n",
    "        print(self.browser.title)\n",
    "        time.sleep(1)\n",
    "        emailInput = self.browser.find_element_by_xpath(\"//input[@name='username']\")\n",
    "        passwordInput = self.browser.find_element_by_xpath(\"//input[@name='password']\")\n",
    "\n",
    "        emailInput.send_keys(self.email)\n",
    "        passwordInput.send_keys(self.password)\n",
    "        passwordInput.send_keys(Keys.ENTER)\n",
    "        time.sleep(2)"
   ]
  },
  {
   "cell_type": "code",
   "execution_count": null,
   "id": "0dd4fe66",
   "metadata": {
    "lines_to_next_cell": 2
   },
   "outputs": [],
   "source": [
    "##  logging to instagram and navigating to feed\n",
    "bot = InstagramBot('perc.eptrons', 'Myntra2024')\n",
    "wait = WebDriverWait(bot.browser, 10)\n",
    "bot.signIn()\n",
    "time.sleep(3)\n",
    "okay = bot.browser.find_element_by_class_name(\"sqdOP.yWX7d.y3zKF\")\n",
    "okay.send_keys(Keys.RETURN)\n",
    "time.sleep(2)\n",
    "notnow = bot.browser.find_element_by_class_name(\"aOOlW.HoLwm\")\n",
    "notnow.send_keys(Keys.RETURN)\n",
    "time.sleep(1)"
   ]
  },
  {
   "cell_type": "code",
   "execution_count": null,
   "id": "c672a9e3",
   "metadata": {},
   "outputs": [],
   "source": [
    "names = []\n",
    "profiles = []\n",
    "datetimelist = []\n",
    "SCROLL_PAUSE_TIME = 1.6\n",
    "#Get scroll height"
   ]
  },
  {
   "cell_type": "code",
   "execution_count": null,
   "id": "2a46802b",
   "metadata": {},
   "outputs": [],
   "source": [
    "last_height = bot.browser.execute_script(\"return document.body.scrollHeight\")\n",
    "for i in range (5):\n",
    "    name1 = wait.until(EC.presence_of_all_elements_located((By.CLASS_NAME , \"sqdOP.yWX7d._8A5w5.ZIAjV\"))) ## geting proflie names\n",
    "    date1 = wait.until(EC.presence_of_all_elements_located((By.CLASS_NAME , \"_1o9PC.Nzb55\")))             ## geting dates of posts  \n",
    "    for n in name1:\n",
    "        profile = n.get_attribute(\"text\")\n",
    "        profiles.append(profile)\n",
    "    # Scroll down to bottom\n",
    "    for d in date1:\n",
    "        date = d.get_attribute(\"datetime\")\n",
    "        datetimelist.append(date)\n",
    "    \n",
    "      # Scroll down to bottom\n",
    "    bot.browser.execute_script(\"window.scrollTo(0, document.body.scrollHeight);\")\n",
    "\n",
    "    # Wait to load page\n",
    "    time.sleep(SCROLL_PAUSE_TIME)\n",
    "\n",
    "    # Calculate new scroll height and compare with last scroll height\n",
    "    new_height = bot.browser.execute_script(\"return document.body.scrollHeight\")\n",
    "    if new_height == last_height:\n",
    "        break\n",
    "    last_height = new_height\n",
    "    \n",
    " \n",
    " # making csv\n",
    "new_profile = []\n",
    "for profile in profiles:\n",
    "    profile = profile.replace(\"See All\",\"\")\n",
    "    if profile != \"\":\n",
    "        new_profile.append(profile)\n",
    "df1 = pd.DataFrame(list(zip(new_profile)), \n",
    "\n",
    "               columns=['proflie_name'])\n",
    "df1.to_csv('proflies.csv')"
   ]
  },
  {
   "cell_type": "code",
   "execution_count": null,
   "id": "13770a61",
   "metadata": {
    "lines_to_next_cell": 2
   },
   "outputs": [],
   "source": [
    "new_date = []\n",
    "for date in datetimelist:\n",
    "    date = date.replace(\"T\",\" \")[:-5]\n",
    "    utc = datetime.strptime(date, '%Y-%m-%d %H:%M:%S')\n",
    "    \n",
    "    from_zone = tz.gettz('UTC')\n",
    "    to_zone = tz.gettz('Asia/Kolkata')\n",
    "    utc = utc.replace(tzinfo=from_zone)\n",
    "    # Convert time zone\n",
    "    central = utc.astimezone(to_zone)\n",
    "    new_date.append(central)"
   ]
  },
  {
   "cell_type": "code",
   "execution_count": null,
   "id": "fd17c28a",
   "metadata": {},
   "outputs": [],
   "source": [
    "df = pd.DataFrame(list(zip(new_date)), \n",
    "\n",
    "               columns=['datetimelist'])\n",
    "df.to_csv('datetime.csv')"
   ]
  },
  {
   "cell_type": "code",
   "execution_count": null,
   "id": "cfcbafad",
   "metadata": {},
   "outputs": [],
   "source": [
    "with open('profile.txt', 'w') as filehandle:\n",
    "    for profile in new_profile :\n",
    "        filehandle.write('%s,'% profile)"
   ]
  }
 ],
 "metadata": {
  "jupytext": {
   "cell_metadata_filter": "-all",
   "main_language": "python",
   "notebook_metadata_filter": "-all"
  },
  "kernelspec": {
   "display_name": "Python 3 (ipykernel)",
   "language": "python",
   "name": "python3"
  },
  "language_info": {
   "codemirror_mode": {
    "name": "ipython",
    "version": 3
   },
   "file_extension": ".py",
   "mimetype": "text/x-python",
   "name": "python",
   "nbconvert_exporter": "python",
   "pygments_lexer": "ipython3",
   "version": "3.10.9"
  }
 },
 "nbformat": 4,
 "nbformat_minor": 5
}
